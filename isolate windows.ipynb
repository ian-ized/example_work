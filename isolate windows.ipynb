{
 "cells": [
  {
   "cell_type": "code",
   "execution_count": 4,
   "metadata": {},
   "outputs": [],
   "source": [
    "import numpy as np\n",
    "import cv2 as cv"
   ]
  },
  {
   "cell_type": "code",
   "execution_count": 5,
   "metadata": {},
   "outputs": [],
   "source": [
    "def isolateWindows(filename, sizeCutoff=600, xmin=100, xmax=1200):\n",
    "  \"\"\"\n",
    "  Inputs - filename, a file location, sizecutoff, the minimum area of a contour to be considered and\n",
    "  xmin and xmax, the bounds of where the windows are tested for\n",
    "  Outputs - a dictionary of all five windows, formatted \"xmin\", \"ymin\", \"leng\", and \"hei\".\n",
    "  Purpose - Find the five windows at the bottom of a 5CSRTT cage for mice. Often needs to be sanity\n",
    "  checked \n",
    "  \"\"\"\n",
    "  cens = {0: {\n",
    "              \"xmin\": None,\n",
    "              \"ymin\": None,\n",
    "              \"leng\": None,\n",
    "              \"hei\": None,\n",
    "            },\n",
    "          1: {\n",
    "              \"xmin\": None,\n",
    "              \"ymin\": None,\n",
    "              \"leng\": None,\n",
    "              \"hei\": None,\n",
    "            },\n",
    "          2: {\n",
    "              \"xmin\": None,\n",
    "              \"ymin\": None,\n",
    "              \"leng\": None,\n",
    "              \"hei\": None,\n",
    "            },\n",
    "          3: {\n",
    "              \"xmin\": None,\n",
    "              \"ymin\": None,\n",
    "              \"leng\": None,\n",
    "              \"hei\": None,\n",
    "            },\n",
    "          4: {\n",
    "              \"xmin\": None,\n",
    "              \"ymin\": None,\n",
    "              \"leng\": None,\n",
    "              \"hei\": None,\n",
    "            },\n",
    "          }\n",
    "\n",
    "\n",
    "\n",
    "  cap = cv.VideoCapture(filename)\n",
    "\n",
    "  contourHistory = -1\n",
    "  while(True):\n",
    "\n",
    "    ret, frame = cap.read()\n",
    "\n",
    "    gray = cv.cvtColor(frame, cv.COLOR_BGR2GRAY)\n",
    "    blur = cv.GaussianBlur(gray,(5,5),0)\n",
    "    ret, thresh_img = cv.threshold(blur,70,255,cv.THRESH_BINARY)\n",
    "\n",
    "    contours =  cv.findContours(thresh_img,cv.RETR_TREE,cv.CHAIN_APPROX_SIMPLE)[-2]\n",
    "\n",
    "    contours = contours[:20]\n",
    "\n",
    "    contourList = []\n",
    "    for i, c in enumerate(contours):\n",
    "      if cv.contourArea(c) > sizeCutoff and c[:, :, 0].max() < xmax and c[:, :, 0].min() > xmin:\n",
    "        contourList.append(np.array([cv.contourArea(c), i, (c[:, :, 0].max()+c[:, :, 0].min())/2-frame.shape[1]/2]))\n",
    "    contourList = np.array(contourList)\n",
    "\n",
    "    sorte = np.argsort(contourList[:, 2])\n",
    "    sorte = contourList[sorte[:5]]\n",
    "\n",
    "    for index in sorte[:, 1]:\n",
    "      cv.drawContours(frame, contours[:30][int(index)], -1, (0,255,0), 3)\n",
    "    if contourHistory == -1:\n",
    "      prevContour = sorte[:, 1]\n",
    "      contourHistory = 0\n",
    "    elif contourHistory < 5 and np.array_equal(sorte[:, 1], prevContour):\n",
    "      contourHistory += 1\n",
    "    elif contourHistory >= 5:\n",
    "      print(\"Done!\")\n",
    "      break\n",
    "    else:\n",
    "      contourHistory = -1\n",
    "      \n",
    "    cv.imshow('video feed',frame)\n",
    "    if cv.waitKey(1) == ord('q'):\n",
    "      break\n",
    "  # indexes = np.sort(sorte[:, 1])\n",
    "  \n",
    "  for count, i in enumerate(sorte[:, 1]):\n",
    "    # print(contours[:30][int(i)])\n",
    "    cens[count][\"xmin\"] = contours[:30][int(i)][:, 0, 0].min()\n",
    "    cens[count][\"ymin\"] = contours[:30][int(i)][:, 0, 1].min()\n",
    "    cens[count][\"leng\"] = contours[:30][int(i)][:, 0, 0].max() - contours[:30][int(i)][:, 0, 0].min()\n",
    "    cens[count][\"hei\"] = contours[:30][int(i)][:, 0, 1].max() - contours[:30][int(i)][:, 0, 1].min()\n",
    "  cap.release()\n",
    "  cv.destroyAllWindows()\n",
    "  return cens"
   ]
  },
  {
   "cell_type": "code",
   "execution_count": 6,
   "metadata": {},
   "outputs": [
    {
     "name": "stdout",
     "output_type": "stream",
     "text": [
      "Done!\n"
     ]
    },
    {
     "data": {
      "text/plain": [
       "{0: {'xmin': 392, 'ymin': 661, 'leng': 95, 'hei': 16},\n",
       " 1: {'xmin': 521, 'ymin': 669, 'leng': 124, 'hei': 16},\n",
       " 2: {'xmin': 678, 'ymin': 675, 'leng': 127, 'hei': 14},\n",
       " 3: {'xmin': 838, 'ymin': 677, 'leng': 119, 'hei': 12},\n",
       " 4: {'xmin': 994, 'ymin': 676, 'leng': 81, 'hei': 10}}"
      ]
     },
     "execution_count": 6,
     "metadata": {},
     "output_type": "execute_result"
    }
   ],
   "source": [
    "filename = r'C:\\Users\\naimc\\Desktop\\work\\final\\data\\2C_Mouse_5-Choice_MustTouchTraining_a1_greyscale.mp4'\n",
    "isolateWindows(filename, xmin=300, xmax=1100)"
   ]
  }
 ],
 "metadata": {
  "kernelspec": {
   "display_name": "annotation_env",
   "language": "python",
   "name": "python3"
  },
  "language_info": {
   "codemirror_mode": {
    "name": "ipython",
    "version": 3
   },
   "file_extension": ".py",
   "mimetype": "text/x-python",
   "name": "python",
   "nbconvert_exporter": "python",
   "pygments_lexer": "ipython3",
   "version": "3.10.12"
  }
 },
 "nbformat": 4,
 "nbformat_minor": 2
}
